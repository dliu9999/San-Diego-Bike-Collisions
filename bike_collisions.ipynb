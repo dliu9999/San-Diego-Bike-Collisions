{
 "cells": [
  {
   "cell_type": "markdown",
   "metadata": {},
   "source": [
    "# San Diego Bike Collisions\n",
    "\n",
    "Is it more or less likely to be injured in a bike-related accident if you are on a bike path or not? How would the results differ for injuries of different severity, by zip codes, and by the type of other party in the accident? In which parts of the city is it more likely to get into an alcohol-related accident? How can you explain that using additional statistics by zip codes, for example, by the number of alcohol-serving bars in the zip code? "
   ]
  },
  {
   "cell_type": "code",
   "execution_count": 1,
   "metadata": {},
   "outputs": [
    {
     "name": "stdout",
     "output_type": "stream",
     "text": [
      "Enter password: ········\n"
     ]
    }
   ],
   "source": [
    "import arcgis\n",
    "from arcgis.gis import GIS\n",
    "from arcgis import geometry\n",
    "from arcgis import features\n",
    "from arcgis.features import use_proximity\n",
    "from arcgis.geoenrichment import *\n",
    "from arcgis.features.find_locations import find_existing_locations\n",
    "from arcgis.features import FeatureLayer\n",
    "\n",
    "import pandas as pd\n",
    "import numpy as np\n",
    "import seaborn as sns\n",
    "from scipy.stats import linregress\n",
    "import geopandas as gpd\n",
    "from shapely.geometry import Point\n",
    "\n",
    "import warnings\n",
    "warnings.filterwarnings(\"ignore\")\n",
    "\n",
    "gis = GIS(username='dsl030_UCSDOnline')"
   ]
  },
  {
   "cell_type": "markdown",
   "metadata": {},
   "source": [
    "## Load the data"
   ]
  },
  {
   "cell_type": "code",
   "execution_count": 2,
   "metadata": {
    "deletable": false,
    "nbgrader": {
     "checksum": "c19f45d2e62fa7a4913d7a1dd9a4e6d2",
     "grade": true,
     "grade_id": "cell-b160cd595686c227",
     "locked": false,
     "points": 5,
     "schema_version": 1,
     "solution": true
    }
   },
   "outputs": [],
   "source": [
    "# load data\n",
    "collisions = pd.read_csv('data/Collisions.csv')\n",
    "parties = pd.read_csv('data/Parties.csv')\n",
    "victims = pd.read_csv('data/Victims.csv')\n",
    "zips = gpd.read_file(\"data/ZIP_Code/ZIP_Code.shp\")\n",
    "\n",
    "# only keep wanted columns\n",
    "collisions_cleaned = collisions.copy()[['CASE_ID', 'LONGITUDE', 'LATITUDE', 'POINT_X', 'POINT_Y']]\n",
    "parties_cleaned = parties[['CASE_ID', 'PARTY_NUMBER', 'PARTY_TYPE', 'AT_FAULT', 'PARTY_SOBRIETY']]\n",
    "victims_cleaned = victims[['CASE_ID', 'PARTY_NUMBER', 'VICTIM_ROLE', 'VICTIM_DEGREE_OF_INJURY']]\n",
    "\n",
    "# clean collisions lat/lons\n",
    "collisions_cleaned['POINT_X'] = collisions_cleaned['POINT_X'].fillna(collisions_cleaned['LONGITUDE'])\n",
    "collisions_cleaned['POINT_Y'] = collisions_cleaned['POINT_Y'].fillna(collisions_cleaned['LATITUDE'])\n",
    "collisions_cleaned = collisions_cleaned.drop(['LATITUDE', 'LONGITUDE'], axis=1)"
   ]
  },
  {
   "cell_type": "markdown",
   "metadata": {},
   "source": [
    "## Joining party to collisions. "
   ]
  },
  {
   "cell_type": "code",
   "execution_count": 3,
   "metadata": {
    "deletable": false,
    "nbgrader": {
     "checksum": "1252feb03934ae785de8b8001bc44ce2",
     "grade": true,
     "grade_id": "cell-06a8a817644d0116",
     "locked": false,
     "points": 5,
     "schema_version": 1,
     "solution": true
    }
   },
   "outputs": [],
   "source": [
    "merged = (\n",
    "    pd.merge(collisions_cleaned, parties_cleaned, how='left', on='CASE_ID')\n",
    "    .merge(victims_cleaned, how='left', on=['CASE_ID', 'PARTY_NUMBER'])\n",
    ")\n",
    "merged = merged.dropna(subset=['POINT_X', 'POINT_Y'])\n",
    "\n",
    "# merged to gdf for spatial join\n",
    "crs = {'init': 'epsg:4326'}\n",
    "geometry = [Point(xy) for xy in zip(merged.POINT_X, merged.POINT_Y)]\n",
    "gdf = gpd.GeoDataFrame(merged, crs=crs, geometry=geometry)\n",
    "gdf.to_file('data/merged1/merged1.shp')\n",
    "\n",
    "# spatial join\n",
    "gdf = gpd.read_file('data/merged1/merged1.shp')\n",
    "joined = gpd.sjoin(gdf, zips).drop(['POINT_X', 'POINT_Y'], axis=1)\n",
    "# joined.to_file('data/joined/joined.shp')"
   ]
  },
  {
   "cell_type": "markdown",
   "metadata": {},
   "source": [
    "## Clean spatial data as needed and create a point layer of collisions"
   ]
  },
  {
   "cell_type": "code",
   "execution_count": 4,
   "metadata": {
    "deletable": false,
    "nbgrader": {
     "checksum": "935322671570362229173a90b5b2adbf",
     "grade": true,
     "grade_id": "cell-0531a1a9297e9e64",
     "locked": false,
     "points": 5,
     "schema_version": 1,
     "solution": true
    }
   },
   "outputs": [],
   "source": [
    "# convert to spatial dataframe, clean\n",
    "points_sdf = pd.DataFrame.spatial.from_featureclass('data/joined/joined.shp')\n",
    "points_sdf = (\n",
    "    points_sdf.replace(np.nan, '', regex=True)\n",
    "    .drop(['index', 'index_righ', 'OBJECTID', 'COMMUNITY'], axis=1)\n",
    ")\n",
    "\n",
    "# publish point layer onto ArcGIS (ALREADY DONE)\n",
    "# points_fl = points_sdf.spatial.to_featurelayer('points_DSL030')"
   ]
  },
  {
   "cell_type": "markdown",
   "metadata": {},
   "source": [
    "## Define what you mean to be on a bike route and figure out, for each collision, whether it happened on a bike route or not. Summarize collisions of different types by zip codes."
   ]
  },
  {
   "cell_type": "code",
   "execution_count": 5,
   "metadata": {
    "deletable": false,
    "nbgrader": {
     "checksum": "3f39cdef40ba02c725ea6a4e2dee248d",
     "grade": true,
     "grade_id": "cell-5f85a4693e6d0a23",
     "locked": false,
     "points": 10,
     "schema_version": 1,
     "solution": true
    }
   },
   "outputs": [],
   "source": [
    "# get bike routes, convert to sdf\n",
    "routes = gis.content.get('086106add0a645ba864db08f45c795ea')\n",
    "routes_sdf = pd.DataFrame.spatial.from_layer(routes.layers[0])\n",
    "sd_routes_sdf = routes_sdf[routes_sdf.Jurisdicti == 'San Diego']"
   ]
  },
  {
   "cell_type": "code",
   "execution_count": 6,
   "metadata": {},
   "outputs": [
    {
     "data": {
      "text/html": [
       "<div>\n",
       "<style scoped>\n",
       "    .dataframe tbody tr th:only-of-type {\n",
       "        vertical-align: middle;\n",
       "    }\n",
       "\n",
       "    .dataframe tbody tr th {\n",
       "        vertical-align: top;\n",
       "    }\n",
       "\n",
       "    .dataframe thead th {\n",
       "        text-align: right;\n",
       "    }\n",
       "</style>\n",
       "<table border=\"1\" class=\"dataframe\">\n",
       "  <thead>\n",
       "    <tr style=\"text-align: right;\">\n",
       "      <th></th>\n",
       "      <th>Jurisdicti</th>\n",
       "      <th>Max_Elev</th>\n",
       "      <th>OBJECTID</th>\n",
       "      <th>RD20FULL</th>\n",
       "      <th>ROUTE</th>\n",
       "      <th>Route_Clas</th>\n",
       "      <th>SHAPE</th>\n",
       "      <th>Shape_Leng</th>\n",
       "      <th>Shape__Length</th>\n",
       "    </tr>\n",
       "  </thead>\n",
       "  <tbody>\n",
       "    <tr>\n",
       "      <th>1</th>\n",
       "      <td>San Diego</td>\n",
       "      <td>596.089307</td>\n",
       "      <td>2</td>\n",
       "      <td>BALTIMORE DR</td>\n",
       "      <td>2</td>\n",
       "      <td>Bike Lane</td>\n",
       "      <td>{\"paths\": [[[-13028270.07, 3867017.2263], [-13...</td>\n",
       "      <td>869.178045</td>\n",
       "      <td>316.024684</td>\n",
       "    </tr>\n",
       "    <tr>\n",
       "      <th>2</th>\n",
       "      <td>San Diego</td>\n",
       "      <td>297.958873</td>\n",
       "      <td>4</td>\n",
       "      <td>03RD AV</td>\n",
       "      <td>8</td>\n",
       "      <td>Other Suggested Routes</td>\n",
       "      <td>{\"paths\": [[[-13042440.2902, 3862416.5232], [-...</td>\n",
       "      <td>352.068928</td>\n",
       "      <td>128.078509</td>\n",
       "    </tr>\n",
       "    <tr>\n",
       "      <th>4</th>\n",
       "      <td>San Diego</td>\n",
       "      <td>294.060562</td>\n",
       "      <td>6</td>\n",
       "      <td>03RD AV</td>\n",
       "      <td>3</td>\n",
       "      <td>Bike Route</td>\n",
       "      <td>{\"paths\": [[[-13042435.8334, 3860948.3572], [-...</td>\n",
       "      <td>245.999750</td>\n",
       "      <td>89.480392</td>\n",
       "    </tr>\n",
       "    <tr>\n",
       "      <th>5</th>\n",
       "      <td>San Diego</td>\n",
       "      <td>57.458652</td>\n",
       "      <td>7</td>\n",
       "      <td>BEYER WY</td>\n",
       "      <td>3</td>\n",
       "      <td>Bike Route</td>\n",
       "      <td>{\"paths\": [[[-13031331.347, 3841152.3001], [-1...</td>\n",
       "      <td>262.427656</td>\n",
       "      <td>95.210672</td>\n",
       "    </tr>\n",
       "    <tr>\n",
       "      <th>8</th>\n",
       "      <td>San Diego</td>\n",
       "      <td>307.283652</td>\n",
       "      <td>10</td>\n",
       "      <td>ARRIBA ST</td>\n",
       "      <td>2</td>\n",
       "      <td>Bike Lane</td>\n",
       "      <td>{\"paths\": [[[-13049185.5785, 3876911.8856], [-...</td>\n",
       "      <td>799.113942</td>\n",
       "      <td>289.760722</td>\n",
       "    </tr>\n",
       "  </tbody>\n",
       "</table>\n",
       "</div>"
      ],
      "text/plain": [
       "  Jurisdicti    Max_Elev  OBJECTID      RD20FULL  ROUTE  \\\n",
       "1  San Diego  596.089307         2  BALTIMORE DR      2   \n",
       "2  San Diego  297.958873         4       03RD AV      8   \n",
       "4  San Diego  294.060562         6       03RD AV      3   \n",
       "5  San Diego   57.458652         7      BEYER WY      3   \n",
       "8  San Diego  307.283652        10     ARRIBA ST      2   \n",
       "\n",
       "               Route_Clas                                              SHAPE  \\\n",
       "1               Bike Lane  {\"paths\": [[[-13028270.07, 3867017.2263], [-13...   \n",
       "2  Other Suggested Routes  {\"paths\": [[[-13042440.2902, 3862416.5232], [-...   \n",
       "4              Bike Route  {\"paths\": [[[-13042435.8334, 3860948.3572], [-...   \n",
       "5              Bike Route  {\"paths\": [[[-13031331.347, 3841152.3001], [-1...   \n",
       "8               Bike Lane  {\"paths\": [[[-13049185.5785, 3876911.8856], [-...   \n",
       "\n",
       "   Shape_Leng  Shape__Length  \n",
       "1  869.178045     316.024684  \n",
       "2  352.068928     128.078509  \n",
       "4  245.999750      89.480392  \n",
       "5  262.427656      95.210672  \n",
       "8  799.113942     289.760722  "
      ]
     },
     "execution_count": 6,
     "metadata": {},
     "output_type": "execute_result"
    }
   ],
   "source": [
    "sd_routes_sdf.head()"
   ]
  },
  {
   "cell_type": "code",
   "execution_count": 7,
   "metadata": {},
   "outputs": [],
   "source": [
    "### ALREADY PUT ONTO ARCGIS ### \n",
    "### URL: https://ucsdonline.maps.arcgis.com/home/item.html?id=c93f3b5105b14847a1a14de98ac057ae\n",
    "\n",
    "# forbuff = merged[['CASE_ID', 'POINT_X', 'POINT_Y']].rename(columns={'POINT_X': 'longitude', 'POINT_Y': 'latitude'})\n",
    "# forbuff.to_csv('data/forbuff.csv')\n",
    "\n",
    "# # create point layer (collisions_item) and add to gis\n",
    "# item_prop = {'title':'sd_collision_buff_DSL030'}\n",
    "# csv_item = gis.content.add(item_properties=item_prop, data='data/forbuff.csv')\n",
    "# collisions_item = csv_item.publish()\n",
    "\n",
    "# create simple df for buffers\n",
    "buff = gis.content.get('c93f3b5105b14847a1a14de98ac057ae').layers[0]\n",
    "buff_collections = use_proximity.create_buffers(buff, distances=[100], units = 'Feet')\n",
    "buff_sdf = buff_collections.query().sdf"
   ]
  },
  {
   "cell_type": "code",
   "execution_count": 34,
   "metadata": {},
   "outputs": [
    {
     "data": {
      "text/plain": [
       "True"
      ]
     },
     "execution_count": 34,
     "metadata": {},
     "output_type": "execute_result"
    }
   ],
   "source": [
    "# map to test if bike route/collision join worked\n",
    "test = gis.map('San Diego', zoomlevel=15)\n",
    "\n",
    "# join intersections\n",
    "intersects = buff_sdf.spatial.join(sd_routes_sdf)\n",
    "\n",
    "# # plot routes and points... it works!\n",
    "sd_routes_sdf.spatial.plot(test)\n",
    "intersects.spatial.plot(test)"
   ]
  },
  {
   "cell_type": "code",
   "execution_count": 35,
   "metadata": {},
   "outputs": [
    {
     "data": {
      "application/vnd.jupyter.widget-view+json": {
       "model_id": "1d5dd13c7e6e451aa4ff51514432e464",
       "version_major": 2,
       "version_minor": 0
      },
      "text/plain": [
       "MapView(layout=Layout(height='400px', width='100%'), zoom=15.0)"
      ]
     },
     "metadata": {},
     "output_type": "display_data"
    },
    {
     "data": {
      "text/html": [
       "<div class=\"map-static-img-preview-4290f5e4-58be-4585-a78d-acddd9be5c8e\"><img src=\"\"></img></div>"
      ],
      "text/plain": [
       "<IPython.core.display.HTML object>"
      ]
     },
     "metadata": {},
     "output_type": "display_data"
    }
   ],
   "source": [
    "test"
   ]
  },
  {
   "cell_type": "markdown",
   "metadata": {},
   "source": [
    "<img src=\"images/1.png\">"
   ]
  },
  {
   "cell_type": "code",
   "execution_count": 9,
   "metadata": {},
   "outputs": [],
   "source": [
    "# assign boolean values back to original sdf\n",
    "inter_cases = list(intersects.CASE_ID)\n",
    "points_sdf['ON_BIKEROUTE'] = points_sdf.CASE_ID.apply(lambda x: True if x in inter_cases else False).astype(int)"
   ]
  },
  {
   "cell_type": "code",
   "execution_count": 10,
   "metadata": {},
   "outputs": [
    {
     "data": {
      "text/plain": [
       "ZIP\n",
       "91911    0.000000\n",
       "91942    1.000000\n",
       "91950    0.000000\n",
       "92014    0.692308\n",
       "92020    0.000000\n",
       "92037    0.698925\n",
       "92067    1.000000\n",
       "92093    0.916667\n",
       "92101    0.705357\n",
       "92102    0.623188\n",
       "Name: ON_BIKEROUTE, dtype: float64"
      ]
     },
     "execution_count": 10,
     "metadata": {},
     "output_type": "execute_result"
    }
   ],
   "source": [
    "# find proportions of on-route collisions based on zipcode (only taking unique case_ids)\n",
    "dropped_duplicates = points_sdf.drop_duplicates(subset='CASE_ID')\n",
    "props = dropped_duplicates.groupby('ZIP')['ON_BIKEROUTE'].mean()\n",
    "props.head(10)"
   ]
  },
  {
   "cell_type": "markdown",
   "metadata": {},
   "source": [
    "## Generate Maps"
   ]
  },
  {
   "cell_type": "markdown",
   "metadata": {},
   "source": [
    "### Map 1: Alcohol Map\n",
    "This is a map of whether or not alcohol was involved in the collision, as well as whether or not those collisions were on bike routes.\n",
    "<br>\n",
    "<br>\n",
    " - Blue Symbols: Alcohol was involved\n",
    "<br>\n",
    " - Green Symbols: Alcohol wasn't involved\n",
    "<br>\n",
    " - Circles: On bike route\n",
    "<br>\n",
    " - Diamonds: Off bike route"
   ]
  },
  {
   "cell_type": "code",
   "execution_count": 11,
   "metadata": {
    "deletable": false,
    "nbgrader": {
     "checksum": "8f5202462b707abf1c54939e9802077b",
     "grade": true,
     "grade_id": "cell-9f85e966afab18c4",
     "locked": false,
     "points": 10,
     "schema_version": 1,
     "solution": true
    }
   },
   "outputs": [],
   "source": [
    "############### MAP 1: ALCOHOL ###################\n",
    "\n",
    "map1 = gis.map('San Diego', zoomlevel=11)\n",
    "\n",
    "##### plot routes #####\n",
    "sd_routes_sdf.spatial.plot(map1, \n",
    "                           symbol_type='simple',\n",
    "                           cmap='Set1',\n",
    "                           cstep=1)\n",
    "\n",
    "\n",
    "##### split to yesalc vs noalc, turn into layers #####\n",
    "yes_alc = points_sdf.copy()[points_sdf.PARTY_SOBR == 'A']\n",
    "no_alc = points_sdf.copy()[points_sdf.PARTY_SOBR != 'A']\n",
    "\n",
    "# url: https://ucsdonline.maps.arcgis.com/home/item.html?id=92efa2294d1d47b497ab9294b5c50fa9 \n",
    "yes_alc_fl = gis.content.get('92efa2294d1d47b497ab9294b5c50fa9').layers[0]\n",
    "\n",
    "# url: https://ucsdonline.maps.arcgis.com/home/item.html?id=e691f0c1b32246c081b593792516d098\n",
    "no_alc_fl = gis.content.get('e691f0c1b32246c081b593792516d098').layers[0] \n",
    "\n",
    "\n",
    "##### render for yesalc #####\n",
    "yes_render = {\"renderer\": \"autocast\", \"type\": \"uniqueValue\", \"field1\":\"ON_BIKEROU\"}\n",
    "\n",
    "yes_render[\"uniqueValueInfos\"] = [{\"value\": \"1\",\n",
    "                                    \"symbol\": {\"color\":[0,0,128,128],\"size\":10,\"angle\":0,\"xoffset\":0,\"yoffset\":0,\"type\":\"esriSMS\",\"style\":\"esriSMSCircle\",\"outline\":{\"color\":[0,0,128,255],\"width\":1,\"type\":\"esriSLS\",\"style\":\"esriSLSSolid\"}\n",
    "                                    },\n",
    "                                    \"label\": \"1\"\n",
    "                                    },\n",
    "                                    {\"value\": \"0\",\n",
    "                                    \"symbol\": {\"color\":[0,0,128,128],\"size\":10,\"angle\":0,\"xoffset\":0,\"yoffset\":0,\"type\":\"esriSMS\",\"style\":\"esriSMSDiamond\",\"outline\":{\"color\":[0,0,128,255],\"width\":1,\"type\":\"esriSLS\",\"style\":\"esriSLSSolid\"}\n",
    "                                    },\n",
    "                                    \"label\": \"0\"\n",
    "                                    }]\n",
    "\n",
    "##### render for noalc #####\n",
    "no_render = {\"renderer\": \"autocast\", \"type\": \"uniqueValue\", \"field1\":\"ON_BIKEROU\"}\n",
    "\n",
    "no_render[\"uniqueValueInfos\"] = [{\"value\": \"1\",\n",
    "                                    \"symbol\": {\"color\":[0,128,0,200],\"size\":10,\"angle\":0,\"xoffset\":0,\"yoffset\":0,\"type\":\"esriSMS\",\"style\":\"esriSMSCircle\",\"outline\":{\"color\":[0,0,128,255],\"width\":1,\"type\":\"esriSLS\",\"style\":\"esriSLSSolid\"}\n",
    "                                    },\n",
    "                                    \"label\": \"1\"\n",
    "                                    },\n",
    "                                    {\"value\": \"0\",\n",
    "                                    \"symbol\": {\"color\":[0,128,0,200],\"size\":10,\"angle\":0,\"xoffset\":0,\"yoffset\":0,\"type\":\"esriSMS\",\"style\":\"esriSMSDiamond\",\"outline\":{\"color\":[0,0,128,255],\"width\":1,\"type\":\"esriSLS\",\"style\":\"esriSLSSolid\"}\n",
    "                                    },\n",
    "                                    \"label\": \"0\"\n",
    "                                    }]\n",
    "\n",
    "##### add point layers to map #####\n",
    "map1.add_layer(yes_alc_fl,\n",
    "              {\"type\": \"FeatureLayer\",\n",
    "               \"renderer\": yes_render,\n",
    "               \"field_name\":\"ON_BIKEROU\"})\n",
    "\n",
    "map1.add_layer(no_alc_fl,\n",
    "              {\"type\": \"FeatureLayer\",\n",
    "               \"renderer\": no_render,\n",
    "               \"field_name\":\"ON_BIKEROU\"})"
   ]
  },
  {
   "cell_type": "code",
   "execution_count": 12,
   "metadata": {},
   "outputs": [
    {
     "data": {
      "application/vnd.jupyter.widget-view+json": {
       "model_id": "86eedb3e7e4b43f39f352b645891a5af",
       "version_major": 2,
       "version_minor": 0
      },
      "text/plain": [
       "MapView(layout=Layout(height='400px', width='100%'), zoom=11.0)"
      ]
     },
     "metadata": {},
     "output_type": "display_data"
    },
    {
     "data": {
      "text/html": [
       "<div class=\"map-static-img-preview-c48a77d6-bb6d-4bb0-bc2d-2cf4222f307e\"><img src=\"\"></img></div>"
      ],
      "text/plain": [
       "<IPython.core.display.HTML object>"
      ]
     },
     "metadata": {},
     "output_type": "display_data"
    }
   ],
   "source": [
    "map1"
   ]
  },
  {
   "cell_type": "markdown",
   "metadata": {},
   "source": [
    "<img src=\"images/2.png\">"
   ]
  },
  {
   "cell_type": "markdown",
   "metadata": {},
   "source": [
    "### Map 2: At Fault because of Impairment Map\n",
    "This is a map of whether or not the bicyclist was at fault because of impairment, as well as whether or not those collisions were on bike routes.\n",
    "<br>\n",
    "<br>\n",
    " - Red circles: Bicyclist was at fault and under the influence of alcohol\n",
    "<br>\n",
    " - Yellow circles: Bicyclist was not at fault and under the influence of alcohol"
   ]
  },
  {
   "cell_type": "code",
   "execution_count": 13,
   "metadata": {},
   "outputs": [],
   "source": [
    "############### MAP 2: FAULT BECAUSE OF IMPAIRMENT ###################\n",
    "\n",
    "map2 = gis.map('San Diego', zoomlevel=11)\n",
    "\n",
    "# plot routes and points\n",
    "sd_routes_sdf.spatial.plot(map2, \n",
    "                           symbol_type='simple',\n",
    "                           cmap='Set1',\n",
    "                           cstep=1)\n",
    "\n",
    "##### get impaired, turn into layer #####\n",
    "impaired = points_sdf.copy()[points_sdf.PARTY_SOBR == 'B']\n",
    "\n",
    "# url: https://ucsdonline.maps.arcgis.com/home/item.html?id=ab03150b87e94e648aaca35044dbe19f\n",
    "impaired_fl = gis.content.get('ab03150b87e94e648aaca35044dbe19f').layers[0]\n",
    "\n",
    "\n",
    "##### render for impaired #####\n",
    "impaired_render = {\"renderer\": \"autocast\", \"type\": \"uniqueValue\", \"field1\":\"AT_FAULT\"}\n",
    "\n",
    "impaired_render[\"uniqueValueInfos\"] = [{\"value\": \"Y\",\n",
    "                                    \"symbol\": {\"color\":[255,0,0,200],\"size\":10,\"angle\":0,\"xoffset\":0,\"yoffset\":0,\"type\":\"esriSMS\",\"style\":\"esriSMSCircle\",\"outline\":{\"color\":[0,0,128,255],\"width\":1,\"type\":\"esriSLS\",\"style\":\"esriSLSSolid\"}\n",
    "                                    }},\n",
    "                                    {\"value\": \"N\",\n",
    "                                    \"symbol\": {\"color\":[255,255,128,200],\"size\":10,\"angle\":0,\"xoffset\":0,\"yoffset\":0,\"type\":\"esriSMS\",\"style\":\"esriSMSCircle\",\"outline\":{\"color\":[0,0,128,255],\"width\":1,\"type\":\"esriSLS\",\"style\":\"esriSLSSolid\"}\n",
    "                                    }}]\n",
    "\n",
    "##### add layers to map #####\n",
    "map2.add_layer(impaired_fl,\n",
    "              {\"type\": \"FeatureLayer\",\n",
    "               \"renderer\": impaired_render,\n",
    "               \"field_name\":\"AT_FAULT\"})"
   ]
  },
  {
   "cell_type": "code",
   "execution_count": 14,
   "metadata": {},
   "outputs": [
    {
     "data": {
      "application/vnd.jupyter.widget-view+json": {
       "model_id": "9fee0d1c96ad492ebd7bf3f4ab7ba680",
       "version_major": 2,
       "version_minor": 0
      },
      "text/plain": [
       "MapView(layout=Layout(height='400px', width='100%'), zoom=11.0)"
      ]
     },
     "metadata": {},
     "output_type": "display_data"
    },
    {
     "data": {
      "text/html": [
       "<div class=\"map-static-img-preview-ffd1f284-a44b-422e-8d5a-c4ceb84219dd\"><img src=\"\"></img></div>"
      ],
      "text/plain": [
       "<IPython.core.display.HTML object>"
      ]
     },
     "metadata": {},
     "output_type": "display_data"
    }
   ],
   "source": [
    "map2"
   ]
  },
  {
   "cell_type": "markdown",
   "metadata": {},
   "source": [
    "<img src=\"images/3.png\">"
   ]
  },
  {
   "cell_type": "markdown",
   "metadata": {},
   "source": [
    "### Map 3: Type of Other Party Map \n",
    "This is a map of the type of parties involved in the collisions\n",
    "<br>\n",
    "\n",
    "Types of other party:\n",
    " - other (black)\n",
    " - no other party (red)\n",
    " - car in 2-party crash (teal)\n",
    " - pedestrian in 2-party crash (blue)\n",
    " - 2-way bike crash (green)\n",
    " - car and bike in 3-party crash (yellow)"
   ]
  },
  {
   "cell_type": "code",
   "execution_count": 15,
   "metadata": {},
   "outputs": [],
   "source": [
    "# define the different types\n",
    "def create_types(df):\n",
    "    lis = list(df.PARTY_TYPE)\n",
    "    \n",
    "    if len(df) == 1:                    # no other party\n",
    "        return 1\n",
    "    elif len(df) == 2:\n",
    "        if '1' in lis:                  # car in 2-party crash\n",
    "            return 2\n",
    "        elif '2' in lis:                # pedestrian in 2-party crash\n",
    "            return 3\n",
    "        elif lis.count('4') == 2:       # 2-way bike crash\n",
    "            return 4\n",
    "        else:                           # other \n",
    "            return -1\n",
    "    elif len(df) == 3:\n",
    "        if '1' in lis and '4' in lis:   # car and bike in 3-party crash\n",
    "            return 5\n",
    "        else: \n",
    "            return -1                   # other\n",
    "    else:                               # other\n",
    "        return -1\n",
    "    \n",
    "diff_types = points_sdf.groupby('CASE_ID').apply(create_types)\n",
    "case_id_shapes = points_sdf.groupby('CASE_ID').apply(lambda x: x.SHAPE.iloc[0])\n",
    "types_sdf = pd.DataFrame({'TYPE': diff_types, 'SHAPE': case_id_shapes})"
   ]
  },
  {
   "cell_type": "code",
   "execution_count": 16,
   "metadata": {},
   "outputs": [],
   "source": [
    "# define renders\n",
    "m3_render = {\"renderer\": \"autocast\", \"type\": \"uniqueValue\", \"field1\":\"TYPE\"}\n",
    "\n",
    "m3_render[\"uniqueValueInfos\"] = [{\"value\": \"-1\",\n",
    "                                  \"symbol\": {\"color\":[0,0,0,200],\"size\":10,\"angle\":0,\"xoffset\":0,\"yoffset\":0,\"type\":\"esriSMS\",\"style\":\"esriSMSCircle\",\"outline\":{\"color\":[0,0,128,255],\"width\":1,\"type\":\"esriSLS\",\"style\":\"esriSLSSolid\"}\n",
    "                                  }},\n",
    "                                 {\"value\": \"1\",\n",
    "                                  \"symbol\": {\"color\":[255,40,40,200],\"size\":10,\"angle\":0,\"xoffset\":0,\"yoffset\":0,\"type\":\"esriSMS\",\"style\":\"esriSMSCircle\",\"outline\":{\"color\":[0,0,128,255],\"width\":1,\"type\":\"esriSLS\",\"style\":\"esriSLSSolid\"}\n",
    "                                  }},\n",
    "                                 {\"value\": \"2\",\n",
    "                                  \"symbol\": {\"color\":[40,239,212,200],\"size\":10,\"angle\":0,\"xoffset\":0,\"yoffset\":0,\"type\":\"esriSMS\",\"style\":\"esriSMSCircle\",\"outline\":{\"color\":[0,0,128,255],\"width\":1,\"type\":\"esriSLS\",\"style\":\"esriSLSSolid\"}\n",
    "                                  }},\n",
    "                                 {\"value\": \"3\",\n",
    "                                  \"symbol\": {\"color\":[40,40,239,200],\"size\":10,\"angle\":0,\"xoffset\":0,\"yoffset\":0,\"type\":\"esriSMS\",\"style\":\"esriSMSCircle\",\"outline\":{\"color\":[0,0,128,255],\"width\":1,\"type\":\"esriSLS\",\"style\":\"esriSLSSolid\"}\n",
    "                                  }},\n",
    "                                 {\"value\": \"4\",\n",
    "                                  \"symbol\": {\"color\":[60,239,40,200],\"size\":10,\"angle\":0,\"xoffset\":0,\"yoffset\":0,\"type\":\"esriSMS\",\"style\":\"esriSMSCircle\",\"outline\":{\"color\":[0,0,128,255],\"width\":1,\"type\":\"esriSLS\",\"style\":\"esriSLSSolid\"}\n",
    "                                  }},\n",
    "                                 {\"value\": \"5\",\n",
    "                                  \"symbol\": {\"color\":[212,230,40,200],\"size\":10,\"angle\":0,\"xoffset\":0,\"yoffset\":0,\"type\":\"esriSMS\",\"style\":\"esriSMSCircle\",\"outline\":{\"color\":[0,0,128,255],\"width\":1,\"type\":\"esriSLS\",\"style\":\"esriSLSSolid\"}\n",
    "                                  }}]"
   ]
  },
  {
   "cell_type": "code",
   "execution_count": 17,
   "metadata": {},
   "outputs": [],
   "source": [
    "############### MAP 3: TYPE OF OTHER PARTY ###################\n",
    "\n",
    "map3 = gis.map('San Diego', zoomlevel=11)\n",
    "\n",
    "# plot routes and points\n",
    "sd_routes_sdf.spatial.plot(map3, \n",
    "                           symbol_type='simple',\n",
    "                           cmap='Set1',\n",
    "                           cstep=1)\n",
    "\n",
    "##### get types, turn into layer #####\n",
    "# url: https://ucsdonline.maps.arcgis.com/home/item.html?id=48d582e9f2d04016a5eda4b7fe122d9c\n",
    "types_fl = gis.content.get('48d582e9f2d04016a5eda4b7fe122d9c').layers[0]\n",
    "\n",
    "\n",
    "##### plot points #####\n",
    "map3.add_layer(types_fl,\n",
    "              {\"type\": \"FeatureLayer\",\n",
    "               \"renderer\": m3_render,\n",
    "               \"field_name\":\"AT_FAULT\"})"
   ]
  },
  {
   "cell_type": "code",
   "execution_count": 18,
   "metadata": {},
   "outputs": [
    {
     "data": {
      "text/plain": [
       "-1     111\n",
       " 1     428\n",
       " 2    1259\n",
       " 3      32\n",
       " 4      27\n",
       " 5      74\n",
       "dtype: int64"
      ]
     },
     "execution_count": 18,
     "metadata": {},
     "output_type": "execute_result"
    }
   ],
   "source": [
    "# legend:\n",
    "# -1. other (black)\n",
    "#  1. no other party (red)\n",
    "#  2. car in 2-party crash (teal)\n",
    "#  3. pedestrian in 2-party crash (blue)\n",
    "#  4. 2-way bike crash (green)\n",
    "#  5. car and bike in 3-party crash (yellow)\n",
    "\n",
    "diff_types.value_counts().sort_index()"
   ]
  },
  {
   "cell_type": "code",
   "execution_count": 19,
   "metadata": {},
   "outputs": [
    {
     "data": {
      "application/vnd.jupyter.widget-view+json": {
       "model_id": "afedc451adf1492db4614c4ffb23df1b",
       "version_major": 2,
       "version_minor": 0
      },
      "text/plain": [
       "MapView(layout=Layout(height='400px', width='100%'), zoom=11.0)"
      ]
     },
     "metadata": {},
     "output_type": "display_data"
    },
    {
     "data": {
      "text/html": [
       "<div class=\"map-static-img-preview-e18af490-d8a6-4afb-9c74-64c7fc43968f\"><img src=\"\"></img></div>"
      ],
      "text/plain": [
       "<IPython.core.display.HTML object>"
      ]
     },
     "metadata": {},
     "output_type": "display_data"
    }
   ],
   "source": [
    "map3"
   ]
  },
  {
   "cell_type": "markdown",
   "metadata": {},
   "source": [
    "<img src=\"images/4.png\">"
   ]
  },
  {
   "cell_type": "markdown",
   "metadata": {},
   "source": [
    "### Map 4: Zip Codes and Alcohol Selling Stores\n",
    "Map by zip codes showing the alcohol-related bicycle accidents and number of alcohol stores in each zip code.\n",
    "<br>\n",
    " - The darker the zip code, the more alcohol selling stores\n",
    " - Blue Symbols: Alcohol was involved\n",
    " - Green Symbols: Alcohol wasn't involved\n",
    " - Circles: On bike route\n",
    " - Diamonds: Off bike route"
   ]
  },
  {
   "cell_type": "code",
   "execution_count": 20,
   "metadata": {},
   "outputs": [],
   "source": [
    "# Grab sd zipcodes \n",
    "unique_zips = list(points_sdf.ZIP.unique())\n",
    "codes_layer = gis.content.get('81cf0db99f754a0ebc6f5ddaefd7bcad').layers[0]\n",
    "codes_sdf = pd.DataFrame.spatial.from_layer(codes_layer)\n",
    "sdcodes_sdf = codes_sdf[codes_sdf.ZIP.isin(unique_zips) | (codes_sdf.COMMUNITY == 'San Diego')]"
   ]
  },
  {
   "cell_type": "code",
   "execution_count": 21,
   "metadata": {},
   "outputs": [
    {
     "data": {
      "text/html": [
       "<div>\n",
       "<style scoped>\n",
       "    .dataframe tbody tr th:only-of-type {\n",
       "        vertical-align: middle;\n",
       "    }\n",
       "\n",
       "    .dataframe tbody tr th {\n",
       "        vertical-align: top;\n",
       "    }\n",
       "\n",
       "    .dataframe thead th {\n",
       "        text-align: right;\n",
       "    }\n",
       "</style>\n",
       "<table border=\"1\" class=\"dataframe\">\n",
       "  <thead>\n",
       "    <tr style=\"text-align: right;\">\n",
       "      <th></th>\n",
       "      <th>COMMUNITY</th>\n",
       "      <th>FID</th>\n",
       "      <th>OBJECTID</th>\n",
       "      <th>SHAPE</th>\n",
       "      <th>SHAPE_AREA</th>\n",
       "      <th>SHAPE_LEN</th>\n",
       "      <th>ZIP</th>\n",
       "    </tr>\n",
       "  </thead>\n",
       "  <tbody>\n",
       "    <tr>\n",
       "      <th>0</th>\n",
       "      <td>San Diego</td>\n",
       "      <td>1</td>\n",
       "      <td>8</td>\n",
       "      <td>{\"rings\": [[[-13035996.9072395, 3865739.514441...</td>\n",
       "      <td>9.116940e+07</td>\n",
       "      <td>56719.411038</td>\n",
       "      <td>92116</td>\n",
       "    </tr>\n",
       "    <tr>\n",
       "      <th>1</th>\n",
       "      <td>San Diego</td>\n",
       "      <td>2</td>\n",
       "      <td>9</td>\n",
       "      <td>{\"rings\": [[[-13035678.0501648, 3867370.750019...</td>\n",
       "      <td>1.391020e+08</td>\n",
       "      <td>87998.181001</td>\n",
       "      <td>92108</td>\n",
       "    </tr>\n",
       "    <tr>\n",
       "      <th>2</th>\n",
       "      <td>San Diego</td>\n",
       "      <td>3</td>\n",
       "      <td>10</td>\n",
       "      <td>{\"rings\": [[[-13037962.0372208, 3874310.039323...</td>\n",
       "      <td>2.250658e+08</td>\n",
       "      <td>71051.924417</td>\n",
       "      <td>92123</td>\n",
       "    </tr>\n",
       "    <tr>\n",
       "      <th>5</th>\n",
       "      <td>La Jolla</td>\n",
       "      <td>6</td>\n",
       "      <td>13</td>\n",
       "      <td>{\"rings\": [[[-13051529.4599386, 3880716.507449...</td>\n",
       "      <td>3.777415e+07</td>\n",
       "      <td>37877.192885</td>\n",
       "      <td>92093</td>\n",
       "    </tr>\n",
       "    <tr>\n",
       "      <th>6</th>\n",
       "      <td>La Jolla</td>\n",
       "      <td>7</td>\n",
       "      <td>14</td>\n",
       "      <td>{\"rings\": [[[-13048208.9903172, 3878401.124024...</td>\n",
       "      <td>2.633243e+08</td>\n",
       "      <td>96029.877710</td>\n",
       "      <td>92037</td>\n",
       "    </tr>\n",
       "  </tbody>\n",
       "</table>\n",
       "</div>"
      ],
      "text/plain": [
       "   COMMUNITY  FID  OBJECTID  \\\n",
       "0  San Diego    1         8   \n",
       "1  San Diego    2         9   \n",
       "2  San Diego    3        10   \n",
       "5   La Jolla    6        13   \n",
       "6   La Jolla    7        14   \n",
       "\n",
       "                                               SHAPE    SHAPE_AREA  \\\n",
       "0  {\"rings\": [[[-13035996.9072395, 3865739.514441...  9.116940e+07   \n",
       "1  {\"rings\": [[[-13035678.0501648, 3867370.750019...  1.391020e+08   \n",
       "2  {\"rings\": [[[-13037962.0372208, 3874310.039323...  2.250658e+08   \n",
       "5  {\"rings\": [[[-13051529.4599386, 3880716.507449...  3.777415e+07   \n",
       "6  {\"rings\": [[[-13048208.9903172, 3878401.124024...  2.633243e+08   \n",
       "\n",
       "      SHAPE_LEN    ZIP  \n",
       "0  56719.411038  92116  \n",
       "1  87998.181001  92108  \n",
       "2  71051.924417  92123  \n",
       "5  37877.192885  92093  \n",
       "6  96029.877710  92037  "
      ]
     },
     "execution_count": 21,
     "metadata": {},
     "output_type": "execute_result"
    }
   ],
   "source": [
    "sdcodes_sdf_1 = codes_sdf[codes_sdf.ZIP.isin(unique_zips)]\n",
    "sdcodes_sdf_1.head()"
   ]
  },
  {
   "cell_type": "code",
   "execution_count": 22,
   "metadata": {},
   "outputs": [],
   "source": [
    "# deal with arcgis shenanigans\n",
    "# sdcodes_layer = find_existing_locations(input_layers=[{'url': codes_layer.url}],\n",
    "#                                          expressions=[{\"operator\":\"\",\"layer\":0,\"where\":\"COMMUNITY = 'San Diego'\"},\n",
    "#                                                       {\"operator\":\"or\",\"layer\":0,\"where\":\"COMMUNITY = 'La Jolla'\"},\n",
    "#                                                       {\"operator\":\"or\",\"layer\":0,\"where\":\"COMMUNITY = 'Del Mar'\"},\n",
    "#                                                       {\"operator\":\"or\",\"layer\":0,\"where\":\"COMMUNITY = 'Chula Vista'\"},\n",
    "#                                                       {\"operator\":\"or\",\"layer\":0,\"where\":\"COMMUNITY = 'National City'\"},\n",
    "#                                                       {\"operator\":\"or\",\"layer\":0,\"where\":\"COMMUNITY = 'La Mesa'\"},\n",
    "#                                                       {\"operator\":\"or\",\"layer\":0,\"where\":\"COMMUNITY = 'Coronado'\"},\n",
    "#                                                       {\"operator\":\"or\",\"layer\":0,\"where\":\"COMMUNITY = 'El Cajon'\"},\n",
    "#                                                       {\"operator\":\"or\",\"layer\":0,\"where\":\"COMMUNITY = 'Rancho Santa Fe'\"},\n",
    "#                                                       {\"operator\":\"or\",\"layer\":0,\"where\":\"COMMUNITY = 'San Ysidro'\"}],\n",
    "#                                          output_name='sdcodes_DSL030')\n",
    "\n",
    "# url: https://ucsdonline.maps.arcgis.com/home/item.html?id=be820ef242d540d592a8df6d81b1699c\n",
    "sdcodes_layer = gis.content.get('be820ef242d540d592a8df6d81b1699c').layers[0]"
   ]
  },
  {
   "cell_type": "code",
   "execution_count": 23,
   "metadata": {},
   "outputs": [
    {
     "data": {
      "text/html": [
       "<div>\n",
       "<style scoped>\n",
       "    .dataframe tbody tr th:only-of-type {\n",
       "        vertical-align: middle;\n",
       "    }\n",
       "\n",
       "    .dataframe tbody tr th {\n",
       "        vertical-align: top;\n",
       "    }\n",
       "\n",
       "    .dataframe thead th {\n",
       "        text-align: right;\n",
       "    }\n",
       "</style>\n",
       "<table border=\"1\" class=\"dataframe\">\n",
       "  <thead>\n",
       "    <tr style=\"text-align: right;\">\n",
       "      <th></th>\n",
       "      <th>COMMUNITY</th>\n",
       "      <th>OBJECTID</th>\n",
       "      <th>OBJECTID_1</th>\n",
       "      <th>SHAPE</th>\n",
       "      <th>ZIP</th>\n",
       "      <th>ZIPALC</th>\n",
       "    </tr>\n",
       "  </thead>\n",
       "  <tbody>\n",
       "    <tr>\n",
       "      <th>0</th>\n",
       "      <td>San Diego</td>\n",
       "      <td>8</td>\n",
       "      <td>1</td>\n",
       "      <td>{\"rings\": [[[-13035996.9072, 3865739.5144], [-...</td>\n",
       "      <td>92116</td>\n",
       "      <td>12</td>\n",
       "    </tr>\n",
       "    <tr>\n",
       "      <th>1</th>\n",
       "      <td>San Diego</td>\n",
       "      <td>9</td>\n",
       "      <td>2</td>\n",
       "      <td>{\"rings\": [[[-13035678.0502, 3867370.75], [-13...</td>\n",
       "      <td>92108</td>\n",
       "      <td>3</td>\n",
       "    </tr>\n",
       "    <tr>\n",
       "      <th>2</th>\n",
       "      <td>San Diego</td>\n",
       "      <td>10</td>\n",
       "      <td>3</td>\n",
       "      <td>{\"rings\": [[[-13037962.0372, 3874310.0393], [-...</td>\n",
       "      <td>92123</td>\n",
       "      <td>5</td>\n",
       "    </tr>\n",
       "    <tr>\n",
       "      <th>3</th>\n",
       "      <td>La Jolla</td>\n",
       "      <td>13</td>\n",
       "      <td>4</td>\n",
       "      <td>{\"rings\": [[[-13051529.4599, 3880716.5074], [-...</td>\n",
       "      <td>92093</td>\n",
       "      <td>0</td>\n",
       "    </tr>\n",
       "    <tr>\n",
       "      <th>4</th>\n",
       "      <td>La Jolla</td>\n",
       "      <td>14</td>\n",
       "      <td>5</td>\n",
       "      <td>{\"rings\": [[[-13048208.9903, 3878401.124], [-1...</td>\n",
       "      <td>92037</td>\n",
       "      <td>3</td>\n",
       "    </tr>\n",
       "  </tbody>\n",
       "</table>\n",
       "</div>"
      ],
      "text/plain": [
       "   COMMUNITY  OBJECTID  OBJECTID_1  \\\n",
       "0  San Diego         8           1   \n",
       "1  San Diego         9           2   \n",
       "2  San Diego        10           3   \n",
       "3   La Jolla        13           4   \n",
       "4   La Jolla        14           5   \n",
       "\n",
       "                                               SHAPE    ZIP  ZIPALC  \n",
       "0  {\"rings\": [[[-13035996.9072, 3865739.5144], [-...  92116      12  \n",
       "1  {\"rings\": [[[-13035678.0502, 3867370.75], [-13...  92108       3  \n",
       "2  {\"rings\": [[[-13037962.0372, 3874310.0393], [-...  92123       5  \n",
       "3  {\"rings\": [[[-13051529.4599, 3880716.5074], [-...  92093       0  \n",
       "4  {\"rings\": [[[-13048208.9903, 3878401.124], [-1...  92037       3  "
      ]
     },
     "execution_count": 23,
     "metadata": {},
     "output_type": "execute_result"
    }
   ],
   "source": [
    "# feature layer codes\n",
    "codes_sdf = sdcodes_layer.query().sdf\n",
    "codes_sdf.head()"
   ]
  },
  {
   "cell_type": "code",
   "execution_count": 24,
   "metadata": {},
   "outputs": [],
   "source": [
    "# find businesses with alcohol\n",
    "buis = pd.read_csv('data/sd_businesses_active_since08_datasd.csv')\n",
    "ca_buis = buis[buis.state == 'CA']\n",
    "stores_with_alc = ['BEER, WINE & LIQUOR STORES', 'TOBACCO STORES', 'CONVENIENCE STORES']\n",
    "alc = ca_buis.copy()[ca_buis.naics_description.isin(stores_with_alc)]\n",
    "alc['zip'] = alc['zip'].str[:5].astype(int)"
   ]
  },
  {
   "cell_type": "code",
   "execution_count": 25,
   "metadata": {},
   "outputs": [
    {
     "data": {
      "text/html": [
       "<div>\n",
       "<style scoped>\n",
       "    .dataframe tbody tr th:only-of-type {\n",
       "        vertical-align: middle;\n",
       "    }\n",
       "\n",
       "    .dataframe tbody tr th {\n",
       "        vertical-align: top;\n",
       "    }\n",
       "\n",
       "    .dataframe thead th {\n",
       "        text-align: right;\n",
       "    }\n",
       "</style>\n",
       "<table border=\"1\" class=\"dataframe\">\n",
       "  <thead>\n",
       "    <tr style=\"text-align: right;\">\n",
       "      <th></th>\n",
       "      <th>index</th>\n",
       "      <th>zipcounts</th>\n",
       "    </tr>\n",
       "  </thead>\n",
       "  <tbody>\n",
       "    <tr>\n",
       "      <th>0</th>\n",
       "      <td>92101</td>\n",
       "      <td>27</td>\n",
       "    </tr>\n",
       "    <tr>\n",
       "      <th>1</th>\n",
       "      <td>92115</td>\n",
       "      <td>26</td>\n",
       "    </tr>\n",
       "    <tr>\n",
       "      <th>2</th>\n",
       "      <td>92109</td>\n",
       "      <td>17</td>\n",
       "    </tr>\n",
       "    <tr>\n",
       "      <th>3</th>\n",
       "      <td>92116</td>\n",
       "      <td>12</td>\n",
       "    </tr>\n",
       "    <tr>\n",
       "      <th>4</th>\n",
       "      <td>92104</td>\n",
       "      <td>12</td>\n",
       "    </tr>\n",
       "  </tbody>\n",
       "</table>\n",
       "</div>"
      ],
      "text/plain": [
       "   index  zipcounts\n",
       "0  92101         27\n",
       "1  92115         26\n",
       "2  92109         17\n",
       "3  92116         12\n",
       "4  92104         12"
      ]
     },
     "execution_count": 25,
     "metadata": {},
     "output_type": "execute_result"
    }
   ],
   "source": [
    "# number of stores in each zip code\n",
    "alc_in_sd = alc[alc.zip.isin(list(sdcodes_sdf.ZIP))]\n",
    "alc_counts = pd.DataFrame(alc_in_sd.zip.value_counts()).rename(columns={'zip':'zipcounts'}).reset_index()\n",
    "alc_counts.head()"
   ]
  },
  {
   "cell_type": "code",
   "execution_count": 26,
   "metadata": {},
   "outputs": [],
   "source": [
    "# find alc counts, manually add data to arcgis online\n",
    "merged_alc = (\n",
    "    pd.DataFrame(codes_sdf.ZIP, columns=['ZIP'])\n",
    "    .merge(alc_counts, how='left', left_on='ZIP', right_on='index')\n",
    "    .fillna(0)\n",
    "    .astype(int)\n",
    ")"
   ]
  },
  {
   "cell_type": "code",
   "execution_count": 27,
   "metadata": {},
   "outputs": [],
   "source": [
    "############### MAP 4: ZIP CODES AND ALCOHOL ###################\n",
    "\n",
    "map4 = gis.map('San Diego', zoomlevel=11)\n",
    "\n",
    "##### plot zipcodes #####\n",
    "\n",
    "map4.add_layer(sdcodes_layer,\n",
    "              {\"type\":\"FeatureLayer\",\n",
    "               \"renderer\":\"ClassedColorRenderer\",\n",
    "               \"field_name\":\"ZIPALC\",\n",
    "               \"opacity\":0.7\n",
    "              })\n",
    "\n",
    "##### add point layers to map using renders from map1 #####\n",
    "map4.add_layer(yes_alc_fl,\n",
    "              {\"type\": \"FeatureLayer\",\n",
    "               \"renderer\": yes_render,\n",
    "               \"field_name\":\"ON_BIKEROU\"})\n",
    "\n",
    "map4.add_layer(no_alc_fl,\n",
    "              {\"type\": \"FeatureLayer\",\n",
    "               \"renderer\": no_render,\n",
    "               \"field_name\":\"ON_BIKEROU\"})"
   ]
  },
  {
   "cell_type": "code",
   "execution_count": 28,
   "metadata": {},
   "outputs": [
    {
     "data": {
      "application/vnd.jupyter.widget-view+json": {
       "model_id": "e9a42f80434d40bcac88e8a703f6f2fe",
       "version_major": 2,
       "version_minor": 0
      },
      "text/plain": [
       "MapView(layout=Layout(height='400px', width='100%'), zoom=11.0)"
      ]
     },
     "metadata": {},
     "output_type": "display_data"
    },
    {
     "data": {
      "text/html": [
       "<div class=\"map-static-img-preview-8fe8a3b6-2df7-4f07-9def-e630d659e895\"><img src=\"\"></img></div>"
      ],
      "text/plain": [
       "<IPython.core.display.HTML object>"
      ]
     },
     "metadata": {},
     "output_type": "display_data"
    }
   ],
   "source": [
    "map4"
   ]
  },
  {
   "cell_type": "markdown",
   "metadata": {},
   "source": [
    "<img src=\"images/5.png\">"
   ]
  },
  {
   "cell_type": "markdown",
   "metadata": {},
   "source": [
    "## Analysis and Responses"
   ]
  },
  {
   "cell_type": "markdown",
   "metadata": {},
   "source": [
    "### Maps Discussion\n",
    "Map 1: \n",
    "<br>\n",
    "Just glancing at the map, it seems like there are a decent amount more blue points than green points, leading me to think that the majority of bike collisions occur when alcohol is involved in an accident. This makes sense; impaired people are ostensibly more likely to get into an accident than non-impaired.\n",
    "<br>\n",
    "Map 2:\n",
    "<br>\n",
    "Looking at the map, there are definitely a lot more red points than yellow points. Again, this makes sense; it is very likely that those alcoholically impaired were the ones that were at fault when it comes to collisions.\n",
    "<br>\n",
    "Map 3:\n",
    "<br>\n",
    "I found this map interesting. The largest amount of collisions by far were two-party collisions between a car and a bike. I didn't think this would be the case, because looking at the map, it seems like most collisions were on bike paths where cars shouldn't be. The second largest amount of collisions was also interesting: no other party collisions. I suspect this is due to people either learning to bike and falling off or some issues with the terrain. \n",
    "<br>\n",
    "Map 4:\n",
    "<br>\n",
    "This map makes a lot of sense to me. It is obvious that zip codes with crowds of collisions were in darker shaded zip codes (where there are more alcohol selling stores). This observations goes along with the first two observations in the first two maps: alcohol plays a major role in bike collisions in San Diego."
   ]
  },
  {
   "cell_type": "markdown",
   "metadata": {},
   "source": [
    "### Analysis Discussion"
   ]
  },
  {
   "cell_type": "code",
   "execution_count": 30,
   "metadata": {
    "deletable": false,
    "nbgrader": {
     "checksum": "44ae55a75f5de20170f9b6909ddb8245",
     "grade": true,
     "grade_id": "cell-1eddfee53360f3fb",
     "locked": false,
     "points": 10,
     "schema_version": 1,
     "solution": true
    }
   },
   "outputs": [
    {
     "name": "stdout",
     "output_type": "stream",
     "text": [
      "Proportion of collisions that occured on paths: 0.6603404967903991\n",
      "\n",
      "Proportion of victims injured:\n"
     ]
    },
    {
     "data": {
      "text/plain": [
       "ON_BIKEROUTE\n",
       "False    0.557108\n",
       "True     0.556636\n",
       "Name: INJURED, dtype: float64"
      ]
     },
     "metadata": {},
     "output_type": "display_data"
    }
   ],
   "source": [
    "# Is it more or less likely to be injured in a bike-related accident if you are on a bike path or not?\n",
    "\n",
    "# prop collisions\n",
    "print('Proportion of collisions that occured on paths: ' + str(points_sdf.ON_BIKEROUTE.mean()))\n",
    "print('')\n",
    "\n",
    "# prop victim degree of injury\n",
    "injury_sdf = points_sdf.copy()\n",
    "injury_sdf['VICTIM_DEG'] = injury_sdf['VICTIM_DEG'].replace({'': 0})\n",
    "injury_sdf['INJURED'] = injury_sdf['VICTIM_DEG'].apply(lambda x: x!=0)\n",
    "injury_sdf['ON_BIKEROUTE'] = injury_sdf['ON_BIKEROUTE'].astype(bool)\n",
    "print('Proportion of victims injured:')\n",
    "display(injury_sdf.groupby('ON_BIKEROUTE')['INJURED'].mean())"
   ]
  },
  {
   "cell_type": "code",
   "execution_count": 31,
   "metadata": {},
   "outputs": [
    {
     "name": "stdout",
     "output_type": "stream",
     "text": [
      "Total Variation distances:\n",
      "injuries = 0.061830645466515025\n",
      "zips = 0.2308877186088553\n",
      "types = 0.03989402370503804\n"
     ]
    },
    {
     "data": {
      "text/plain": [
       "<matplotlib.axes._subplots.AxesSubplot at 0x7ff4981c01d0>"
      ]
     },
     "execution_count": 31,
     "metadata": {},
     "output_type": "execute_result"
    },
    {
     "data": {
      "image/png": "[encoded data removed]",
      "text/plain": [
       "<Figure size 432x288 with 1 Axes>"
      ]
     },
     "metadata": {
      "needs_background": "light"
     },
     "output_type": "display_data"
    },
    {
     "data": {
      "image/png": "[encoded data removed]",
      "text/plain": [
       "<Figure size 720x720 with 1 Axes>"
      ]
     },
     "metadata": {
      "needs_background": "light"
     },
     "output_type": "display_data"
    },
    {
     "data": {
      "image/png": "[encoded data removed]",
      "text/plain": [
       "<Figure size 432x288 with 1 Axes>"
      ]
     },
     "metadata": {
      "needs_background": "light"
     },
     "output_type": "display_data"
    }
   ],
   "source": [
    "# How would the results differ for injuries of different severity, by zip codes, and by the type of \n",
    "# the collision?\n",
    "\n",
    "# create pivot tables for proportions\n",
    "injuries_piv = (\n",
    "    injury_sdf\n",
    "    .pivot_table(index='VICTIM_DEG', \n",
    "                 columns='ON_BIKEROUTE', \n",
    "                 values='CASE_ID', \n",
    "                 aggfunc='sum')\n",
    "    .apply(lambda x: x/x.sum())\n",
    ")\n",
    "zips_piv = (\n",
    "    injury_sdf\n",
    "    .pivot_table(index='ZIP', \n",
    "                 columns='ON_BIKEROUTE', \n",
    "                 values='CASE_ID', \n",
    "                 aggfunc='sum')\n",
    "    .apply(lambda x: x/x.sum())\n",
    "    .fillna(0)\n",
    ")\n",
    "types = injury_sdf.merge(diff_types.reset_index(), how='inner', on='CASE_ID').rename(columns={0:'TYPE'})\n",
    "types_piv = (\n",
    "    types\n",
    "    .pivot_table(index='TYPE', \n",
    "                 columns='ON_BIKEROUTE', \n",
    "                 values='CASE_ID', \n",
    "                 aggfunc='sum')\n",
    "    .apply(lambda x: x/x.sum())\n",
    "    .fillna(0)\n",
    ")\n",
    "\n",
    "# calculate tvds:\n",
    "def tvd(df):\n",
    "    return sum(abs(df[True] - df[False])) / 2\n",
    "print('Total Variation distances:')\n",
    "print('injuries = ' + str(tvd(injuries_piv)))\n",
    "print('zips = ' + str(tvd(zips_piv)))\n",
    "print('types = ' + str(tvd(types_piv)))\n",
    "\n",
    "# plot the pivot tables\n",
    "injuries_piv.plot.barh(title='By injuries of different severity:')\n",
    "zips_piv.plot.barh(figsize=(10,10), title='By zip codes:')\n",
    "types_piv.plot.barh(title='By type of the collision:')"
   ]
  },
  {
   "cell_type": "code",
   "execution_count": 32,
   "metadata": {},
   "outputs": [
    {
     "name": "stdout",
     "output_type": "stream",
     "text": [
      "R-score = 0.7868828861850209\n"
     ]
    },
    {
     "data": {
      "text/plain": [
       "<seaborn.axisgrid.FacetGrid at 0x7ff4965747f0>"
      ]
     },
     "execution_count": 32,
     "metadata": {},
     "output_type": "execute_result"
    },
    {
     "data": {
      "image/png": "[encoded data removed]",
      "text/plain": [
       "<Figure size 360x360 with 1 Axes>"
      ]
     },
     "metadata": {
      "needs_background": "light"
     },
     "output_type": "display_data"
    }
   ],
   "source": [
    "# In which parts of the city is it more likely to get into an alcohol-related accident? How can you \n",
    "# explain that using additional statistics by zip codes, for example, by the number of alcohol selling \n",
    "# stores in the zip code?\n",
    "\n",
    "# create df with number of collisions in each zipcode, merge with number of alcohol selling stores in zips\n",
    "zips_and_alc = (\n",
    "    pd.DataFrame(points_sdf.groupby('ZIP')['CASE_ID'].nunique())\n",
    "    .reset_index()\n",
    "    .merge(alc_counts, how='left', left_on='ZIP', right_on='index')\n",
    "    .drop('index', axis=1)\n",
    "    .rename(columns={'CASE_ID': 'NUM_COLLISIONS', 'zipcounts':'NUM_STORES'})\n",
    "    .fillna(0)\n",
    ")\n",
    "reg = linregress(x=zips_and_alc['NUM_STORES'], y=zips_and_alc['NUM_COLLISIONS'])\n",
    "print('R-score = ' + str(reg.rvalue))\n",
    "sns.lmplot(x='NUM_STORES',y='NUM_COLLISIONS',data=zips_and_alc) "
   ]
  },
  {
   "cell_type": "markdown",
   "metadata": {
    "deletable": false,
    "nbgrader": {
     "checksum": "b04278e61ab766bc78e7fcfc737b469d",
     "grade": true,
     "grade_id": "cell-d5df564323ad019d",
     "locked": false,
     "points": 2,
     "schema_version": 1,
     "solution": true
    }
   },
   "source": [
    "1. Is it more or less likely to be injured in a bike-related accident if you are on a bike path or not?\n",
    " - In the most general case, it seems that it isn't particularly more or less likely to be injured in a bike-related accident if you are on a bike path or not. In both cases, about 55% of collisions on/off bike paths resulted in injuries.\n",
    "<br>\n",
    "2. How would the results differ for injuries of different severity, by zip codes, and by the type of accident?\n",
    " - Again, for the most part, it seems that there isn't a clear identifier for how likely someone is to get injured in a bike-related accident/collision. I tested this claim on three variables: injuries of different severity, by zip codes, and type of accident. First, I created a pivot table each for these variables, indexed by the variables with columns True and False for whether or not the collision was on a bikepath, using this information to plot distributions across these variables. Specifically in the first and third cases, the total variation distances (tvds) between these distributions were very small, less than 0.07. The zip case had a slightly larger tvd, around 0.23, which is still pretty small. Thus, I unsatisfyingly conclude that neither of these variables can give us a good answer to what causes injury on bike paths. \n",
    "<br>\n",
    "3. In which parts of the city is it more likely to get into an alcohol-related accident? How can you explain that using additional statistics by zip codes, for example, by the number of alcohol selling stores in the zip code?\n",
    " - This section was much more satisfying. As I predicted when I visualized Map 4, zip codes that had more alcohol selling stores had more bike collisions. When I plotted a regression line, I got an rscore of about 0.79, showing a rather strong correlation between these two variables!"
   ]
  },
  {
   "cell_type": "markdown",
   "metadata": {},
   "source": [
    "## Find additional interesting information by joining the victims table"
   ]
  },
  {
   "cell_type": "code",
   "execution_count": 33,
   "metadata": {
    "deletable": false,
    "nbgrader": {
     "checksum": "1bb4c5663b9ea00ee0d1ef5f157612d2",
     "grade": true,
     "grade_id": "cell-545399295b08666d",
     "locked": false,
     "points": 5,
     "schema_version": 1,
     "solution": true
    }
   },
   "outputs": [
    {
     "name": "stdout",
     "output_type": "stream",
     "text": [
      "fault with alcohol: 2.5\n",
      "fault with no alcohol: 1.9398496240601504\n"
     ]
    }
   ],
   "source": [
    "# joined victims data\n",
    "ec_df = points_sdf.copy()\n",
    "ec_df['VICTIM_DEG'] = ec_df['VICTIM_DEG'].replace({'': 0})\n",
    "\n",
    "# Question: are victim degrees of injury likely to be higher if the party at fault was alcoholically impaired?\n",
    "fault_alc = ec_df[(ec_df.AT_FAULT == 'Y') & (ec_df.PARTY_SOBR == 'B')]\n",
    "fault_no_alc = ec_df[(ec_df.AT_FAULT == 'Y') & (ec_df.PARTY_SOBR != 'B')]\n",
    "print('fault with alcohol: ' + str(fault_alc.VICTIM_DEG.mean()))\n",
    "print('fault with no alcohol: ' + str(fault_no_alc.VICTIM_DEG.mean()))"
   ]
  },
  {
   "cell_type": "markdown",
   "metadata": {},
   "source": [
    "The average victim degree of injury seems to be higher if the party at fault was alcoholically impaired, but only slightly. It would take more analysis to see if that number was just by chance."
   ]
  }
 ],
 "metadata": {
  "kernelspec": {
   "display_name": "Python 3",
   "language": "python",
   "name": "python3"
  },
  "language_info": {
   "codemirror_mode": {
    "name": "ipython",
    "version": 3
   },
   "file_extension": ".py",
   "mimetype": "text/x-python",
   "name": "python",
   "nbconvert_exporter": "python",
   "pygments_lexer": "ipython3",
   "version": "3.7.3"
  }
 },
 "nbformat": 4,
 "nbformat_minor": 2
}
